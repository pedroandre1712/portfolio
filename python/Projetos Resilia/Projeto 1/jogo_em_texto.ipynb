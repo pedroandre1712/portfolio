{
  "nbformat": 4,
  "nbformat_minor": 0,
  "metadata": {
    "colab": {
      "provenance": [],
      "collapsed_sections": [
        "nMiYxSyjn7y9",
        "N9tLiPZjn-l8",
        "10WXvJSyoAWl",
        "_khVkCqroD_N"
      ]
    },
    "kernelspec": {
      "name": "python3",
      "display_name": "Python 3"
    },
    "language_info": {
      "name": "python"
    }
  },
  "cells": [
    {
      "cell_type": "markdown",
      "metadata": {
        "id": "0H31JsSpS2Mn"
      },
      "source": [
        "## Países\n",
        "\n",
        "- Alemanha\n",
        "- França\n",
        "- EUA"
      ]
    },
    {
      "cell_type": "markdown",
      "metadata": {
        "id": "QRFRFm9In5di"
      },
      "source": [
        "## Escolha do país"
      ]
    },
    {
      "cell_type": "code",
      "metadata": {
        "id": "yseY0JoJS-xh"
      },
      "source": [
        "def escolha():\n",
        "  global tipo_char\n",
        "\n",
        "  print('Você estava em um laboratorio de física e',\n",
        "        ' decidiu apertar um botao vermelho escrito NAO APERTE. ')\n",
        "\n",
        "  print('Agora você voltou para o ano de 1914,',\n",
        "        ' o inicio da primeira guerra mundial!')\n",
        "\n",
        "  print('\\nVocê deverá representar um país nessa guerra.')\n",
        "\n",
        "  tipo_char = input('\\nCom qual país você deseja jogar',\n",
        "                    '\\n1 - Alemanha\\n2 - França\\n3 - Estados Unidos\\n')\n",
        "  print('_'*150)\n",
        "\n",
        "  if tipo_char == '1':\n",
        "    print('\\nExcelente escolha!')\n",
        "    print('A Alemanha possui um imenso poder bélico,',\n",
        "          ' entretanto pode ser atacada por diferentes frentes.')\n",
        "\n",
        "  elif tipo_char == '2':\n",
        "    print('\\nÓtima escolha!')\n",
        "    print('A França está em uma posição estratégica para a guerra!',\n",
        "          'Entretanto, você correrá o risco de ter guerras em seu território.')\n",
        "\n",
        "  elif tipo_char == '3':\n",
        "    print('\\nMuito boa a escolha!' )\n",
        "    print('Os Estados Unidos possuem um forte poder bélico e',\n",
        "          ' não se envolvem diretamente na guerra!',\n",
        "          'Entretanto, se os seus aliados perderem a Guerra,',\n",
        "          ' a economia do seu pais estará em risco.')"
      ],
      "execution_count": null,
      "outputs": []
    },
    {
      "cell_type": "markdown",
      "metadata": {
        "id": "nMiYxSyjn7y9"
      },
      "source": [
        "## Guerra Alemanha"
      ]
    },
    {
      "cell_type": "code",
      "metadata": {
        "id": "ali-mMFBTTmI"
      },
      "source": [
        "def guerra_alemanha():\n",
        "  print('\\nA guerra começou!')\n",
        "  escolha_um = input('\\nVocê deseja:\\n 1 - Invadir a França na frente Ocidental\\n 2 - Combater a Russia na frente Oriental\\n')\n",
        "  print('_'*150)\n",
        "  if escolha_um == '1':\n",
        "    print('\\nÓtima decisao! O império Russo não está bem estruturado, então pequena parte da suas tropas devem solucionar o problema na fronteira oriental.')\n",
        "    escolha_dois = input('\\nVoce deseja invadir a França pelo:\\n 1 - Norte\\n 2 - Oeste\\n')\n",
        "    print('_'*150)\n",
        "    if escolha_dois == '1':\n",
        "      print('\\nParabéns, voce pegou os franceses de surpresa!')\n",
        "      print('\\nEntretanto, a Inglaterra chegou para ajudar a França!')\n",
        "      print('A Inglaterra cercou o litoral Alemao.')\n",
        "      print('\\nE agora??')\n",
        "      escolha_tres = input('\\nVocê quer:\\n1 - Recuar suas tropas\\n2 - Solicitar reforço marítimo\\n')\n",
        "      print('_'*150)\n",
        "      if escolha_tres == '1':\n",
        "        print('Você foi pego pelo navio ingles!\\n\\n GAME OVER!')\n",
        "      elif escolha_tres == '2':\n",
        "        print('A sua frota de submarinos chegou! Voce afundou 1/3 dos navios ingleses e eles decidiram recuar')\n",
        "        print('\\nParabéns! Voce ganhou a Guerra!')\n",
        "    elif escolha_dois =='2':\n",
        "      print('Os franceses estavam com suas tropas preparadas!\\n\\n GAME OVER!')\n",
        "  elif escolha_um =='2':\n",
        "    print('\\nParabéns! Voce dizimou o exército Russo')\n",
        "    print('Entretanto, a França derrotou o seu exército na fronteira Ocidental!')\n",
        "    print('\\nGAME OVER!')"
      ],
      "execution_count": null,
      "outputs": []
    },
    {
      "cell_type": "markdown",
      "metadata": {
        "id": "N9tLiPZjn-l8"
      },
      "source": [
        "## Guerra França"
      ]
    },
    {
      "cell_type": "code",
      "metadata": {
        "id": "0E6eqKOgZB6Z"
      },
      "source": [
        "def guerra_franca():\n",
        "  print('\\nA guerra começou!')\n",
        "  escolha_um = input('Você deseja:\\n 1 - Fortalecer suas fronteiras\\n 2 - Invadir a Alemanha\\n')\n",
        "  print('_'*150)\n",
        "  if escolha_um == '1':\n",
        "    print('\\nVocê fortaleceu suas fronteiras!')\n",
        "    print('Agora você está preparado caso haja uma invasão no seu território')\n",
        "    print('A Alemanha tentou um ataque supresa pelo Norte!')\n",
        "    escolha_dois = input('Você deseja:\\n 1 - Fortalecer suas tropas ao norte\\n 2 - Manter sua formacao atual\\n')\n",
        "    print('_'*150)\n",
        "    if escolha_dois == '1':\n",
        "      print('\\nParabéns, voce acabou com a ofensiva Alema!')\n",
        "      print('Entretanto, o Império Austro-Húngaro realizou uma ofensiva na fronteira!')\n",
        "      print('\\nE agora??')\n",
        "      escolha_tres = input('\\nVocê deseja:\\n1 - Solicitar ajuda inglesa\\n2 - Solicitar ajuda americana\\n')\n",
        "      print('_'*150)\n",
        "      if escolha_tres == '1':\n",
        "        print('A forca inglesa esta ocupada lidando com os submarinos Alemães!\\n\\n GAME OVER!')\n",
        "      elif escolha_tres == '2':\n",
        "        print('Os Estados Unidos enviaram suas frotas para reforço! Juntos, vocês acabaram com a ofensiva austro-húngara')\n",
        "        print('\\nParabéns! Você ganhou a Guerra!')\n",
        "    elif escolha_dois =='2':\n",
        "      print('Os alemães venceram a batalha ao norte!\\n\\n GAME OVER!')\n",
        "  elif escolha_um =='2':\n",
        "    print('\\nParabéns! Você conquistou uma pequena parte do território alemão\\n')\n",
        "    print('Entretanto, a Alemanha fez uma invasão surpresa pelo norte no território Francês!\\n\\n GAME OVER!')"
      ],
      "execution_count": null,
      "outputs": []
    },
    {
      "cell_type": "markdown",
      "metadata": {
        "id": "10WXvJSyoAWl"
      },
      "source": [
        "## Guerra EUA"
      ]
    },
    {
      "cell_type": "code",
      "metadata": {
        "id": "ffEI8qRsZFxh"
      },
      "source": [
        "def guerra_eua():\n",
        "  print('\\nA guerra começou')\n",
        "  escolha_um = input('\\nVocê deseja:\\n 1 - Investir em armamentos e artigos industrializados\\n 2 - Investir somente em armamentos\\n')\n",
        "  print('_'*150)\n",
        "  if escolha_um == '1':\n",
        "    print('\\nInvestimento feito!\\n')\n",
        "    print('Agora você está preparado para fornecer seus produtos aos seus aliados')\n",
        "    print('\\nA Alemanha começou uma guerra submarina irrestrita!')\n",
        "    escolha_dois = input('\\nVocê deseja:\\n 1 - Enviar imediatamente reforços ao Reino Unido\\n 2 - Tentar um acordo de paz com a Alemanha\\n')\n",
        "    print('_'*150)\n",
        "    if escolha_dois == '1':\n",
        "      print('\\nReforcos enviados!\\n')\n",
        "      print('Entretanto, a Franca foi invadida por uma ofensiva surpresa pelo Norte!')\n",
        "      print('\\nE agora??')\n",
        "      escolha_tres = input('\\nVocê deseja:\\n1 - Manter todos os reforços as tropas do Reino Unido\\n2 - Dividir os reforços com os franceses\\n')\n",
        "      print('_'*150)\n",
        "      if escolha_tres == '1':\n",
        "        print('\\nOs alemães dominaram o territorio Frances!\\n\\n GAME OVER!')\n",
        "      elif escolha_tres == '2':\n",
        "        print('Os Estados Unidos enviaram parte de suas frotas para reforço na Franca! Juntos, vocês acabaram com a ofensiva Alemã')\n",
        "        print('\\nParabéns! Você ganhou a Guerra!')\n",
        "    elif escolha_dois =='2':\n",
        "      print('\\nOs alemães derrubaram 1/3 das tropas submarinas inglesas e invadiram a França!\\n\\n GAME OVER!')\n",
        "  elif escolha_um =='2':\n",
        "    print('\\nInvestimento feito!\\n')\n",
        "    print('Entretanto, os principais centros de producao de alimentos dos seus aliados foi destruido!\\n\\n GAME OVER!')\n"
      ],
      "execution_count": null,
      "outputs": []
    },
    {
      "cell_type": "markdown",
      "metadata": {
        "id": "_khVkCqroD_N"
      },
      "source": [
        "## Teste jogo"
      ]
    },
    {
      "cell_type": "code",
      "metadata": {
        "colab": {
          "base_uri": "https://localhost:8080/",
          "height": 415
        },
        "id": "qhF9JErbjmSf",
        "outputId": "549974bc-5f23-440e-a1c4-8d22d2385d57"
      },
      "source": [
        "tipo_char = ''\n",
        "def game():\n",
        "  global tipo_char\n",
        "  escolha()\n",
        "  if tipo_char == '1':\n",
        "    guerra_alemanha()\n",
        "  elif tipo_char == '2':\n",
        "    guerra_franca()\n",
        "  elif tipo_char =='3':\n",
        "    guerra_eua()\n",
        "game()"
      ],
      "execution_count": null,
      "outputs": [
        {
          "output_type": "stream",
          "name": "stdout",
          "text": [
            "Você estava em um laboratorio de física e  decidiu apertar um botao vermelho escrito NAO APERTE. \n",
            "Agora você voltou para o ano de 1914,  o inicio da primeira guerra mundial!\n",
            "\n",
            "Você deverá representar um país nessa guerra.\n"
          ]
        },
        {
          "output_type": "error",
          "ename": "TypeError",
          "evalue": "ignored",
          "traceback": [
            "\u001b[0;31m---------------------------------------------------------------------------\u001b[0m",
            "\u001b[0;31mTypeError\u001b[0m                                 Traceback (most recent call last)",
            "\u001b[0;32m<ipython-input-9-7d56dde44844>\u001b[0m in \u001b[0;36m<module>\u001b[0;34m()\u001b[0m\n\u001b[1;32m      9\u001b[0m   \u001b[0;32melif\u001b[0m \u001b[0mtipo_char\u001b[0m \u001b[0;34m==\u001b[0m\u001b[0;34m'3'\u001b[0m\u001b[0;34m:\u001b[0m\u001b[0;34m\u001b[0m\u001b[0;34m\u001b[0m\u001b[0m\n\u001b[1;32m     10\u001b[0m     \u001b[0mguerra_eua\u001b[0m\u001b[0;34m(\u001b[0m\u001b[0;34m)\u001b[0m\u001b[0;34m\u001b[0m\u001b[0;34m\u001b[0m\u001b[0m\n\u001b[0;32m---> 11\u001b[0;31m \u001b[0mgame\u001b[0m\u001b[0;34m(\u001b[0m\u001b[0;34m)\u001b[0m\u001b[0;34m\u001b[0m\u001b[0;34m\u001b[0m\u001b[0m\n\u001b[0m",
            "\u001b[0;32m<ipython-input-9-7d56dde44844>\u001b[0m in \u001b[0;36mgame\u001b[0;34m()\u001b[0m\n\u001b[1;32m      2\u001b[0m \u001b[0;32mdef\u001b[0m \u001b[0mgame\u001b[0m\u001b[0;34m(\u001b[0m\u001b[0;34m)\u001b[0m\u001b[0;34m:\u001b[0m\u001b[0;34m\u001b[0m\u001b[0;34m\u001b[0m\u001b[0m\n\u001b[1;32m      3\u001b[0m   \u001b[0;32mglobal\u001b[0m \u001b[0mtipo_char\u001b[0m\u001b[0;34m\u001b[0m\u001b[0;34m\u001b[0m\u001b[0m\n\u001b[0;32m----> 4\u001b[0;31m   \u001b[0mescolha\u001b[0m\u001b[0;34m(\u001b[0m\u001b[0;34m)\u001b[0m\u001b[0;34m\u001b[0m\u001b[0;34m\u001b[0m\u001b[0m\n\u001b[0m\u001b[1;32m      5\u001b[0m   \u001b[0;32mif\u001b[0m \u001b[0mtipo_char\u001b[0m \u001b[0;34m==\u001b[0m \u001b[0;34m'1'\u001b[0m\u001b[0;34m:\u001b[0m\u001b[0;34m\u001b[0m\u001b[0;34m\u001b[0m\u001b[0m\n\u001b[1;32m      6\u001b[0m     \u001b[0mguerra_alemanha\u001b[0m\u001b[0;34m(\u001b[0m\u001b[0;34m)\u001b[0m\u001b[0;34m\u001b[0m\u001b[0;34m\u001b[0m\u001b[0m\n",
            "\u001b[0;32m<ipython-input-2-a484cd6d61e7>\u001b[0m in \u001b[0;36mescolha\u001b[0;34m()\u001b[0m\n\u001b[1;32m     11\u001b[0m \u001b[0;34m\u001b[0m\u001b[0m\n\u001b[1;32m     12\u001b[0m   tipo_char = input('\\nCom qual país você deseja jogar',\n\u001b[0;32m---> 13\u001b[0;31m                     '\\n1 - Alemanha\\n2 - França\\n3 - Estados Unidos\\n')\n\u001b[0m\u001b[1;32m     14\u001b[0m   \u001b[0mprint\u001b[0m\u001b[0;34m(\u001b[0m\u001b[0;34m'_'\u001b[0m\u001b[0;34m*\u001b[0m\u001b[0;36m150\u001b[0m\u001b[0;34m)\u001b[0m\u001b[0;34m\u001b[0m\u001b[0;34m\u001b[0m\u001b[0m\n\u001b[1;32m     15\u001b[0m \u001b[0;34m\u001b[0m\u001b[0m\n",
            "\u001b[0;31mTypeError\u001b[0m: raw_input() takes from 1 to 2 positional arguments but 3 were given"
          ]
        }
      ]
    },
    {
      "cell_type": "code",
      "metadata": {
        "id": "I-EzSu1ZlQOa"
      },
      "source": [],
      "execution_count": null,
      "outputs": []
    }
  ]
}