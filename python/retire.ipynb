{
  "nbformat": 4,
  "nbformat_minor": 0,
  "metadata": {
    "colab": {
      "provenance": []
    },
    "kernelspec": {
      "name": "python3",
      "display_name": "Python 3"
    },
    "language_info": {
      "name": "python"
    }
  },
  "cells": [
    {
      "cell_type": "code",
      "metadata": {
        "id": "PefzK6ql9-kn"
      },
      "source": [
        "import numpy as np\n",
        "import pandas as pd\n",
        "import matplotlib.pyplot as plt"
      ],
      "execution_count": null,
      "outputs": []
    },
    {
      "cell_type": "code",
      "metadata": {
        "id": "P8FkkGbH-HZ-"
      },
      "source": [
        "#Create lists\n",
        "years = []\n",
        "yearly_income = []\n",
        "yearly_expenses = []\n",
        "yearly_investments = []\n",
        "annual_returns = []"
      ],
      "execution_count": null,
      "outputs": []
    },
    {
      "cell_type": "code",
      "metadata": {
        "id": "q0_-sDzx-Xvq"
      },
      "source": [
        "#Yearly income\n",
        "income = int(input('Digite o valor do seu salario anualizado: '))\n",
        "#Yearly expense\n",
        "expense = int(input('Digite o valor da sua despesa: '))\n",
        "#Expected interest rate per year\n",
        "interest_rate = 0.08\n",
        "#Investing half of the income\n",
        "investment = income/2\n",
        "#Calculating annual return\n",
        "annual_return = investment * interest_rate\n",
        "#Current year\n",
        "year = 2021"
      ],
      "execution_count": null,
      "outputs": []
    },
    {
      "cell_type": "code",
      "metadata": {
        "id": "87RCqTOPBJ4L"
      },
      "source": [
        "#Append the first values to the list\n",
        "years.append(year)\n",
        "yearly_income.append(income)\n",
        "yearly_expenses.append(expense)\n",
        "yearly_investments.append(investment)\n",
        "annual_returns.append(annual_return)"
      ],
      "execution_count": null,
      "outputs": []
    },
    {
      "cell_type": "code",
      "metadata": {
        "id": "2exdNPZqBlms"
      },
      "source": [
        "#Loop for n years\n",
        "invested_years = 10\n",
        "for i in range(0, invested_years-1):\n",
        "  #Update the investment\n",
        "  investment = investment + annual_return + income/2\n",
        "  annual_return = investment * interest_rate\n",
        "  ano = year + i + 1\n",
        "  years.append(ano)\n",
        "  yearly_income.append(income)\n",
        "  yearly_expenses.append(expense)\n",
        "  yearly_investments.append(investment)\n",
        "  annual_returns.append(annual_return)"
      ],
      "execution_count": null,
      "outputs": []
    },
    {
      "cell_type": "code",
      "metadata": {
        "id": "utdDJxvsCnni"
      },
      "source": [
        "#Create a DataFrame\n",
        "df = pd.DataFrame()\n",
        "df['Year'] = years\n",
        "df['Yearly_income'] = yearly_income\n",
        "df['Yearly_Expenses'] = yearly_expenses\n",
        "df['Yearly_Investments'] = yearly_investments\n",
        "df['Annual_Returns'] = annual_returns\n"
      ],
      "execution_count": null,
      "outputs": []
    },
    {
      "cell_type": "code",
      "metadata": {
        "colab": {
          "base_uri": "https://localhost:8080/",
          "height": 204
        },
        "id": "1gI9649cD9ER",
        "outputId": "ff0398fa-d2fa-43ef-9261-5cd524d0b45d"
      },
      "source": [
        "#Show the data\n",
        "df.head()"
      ],
      "execution_count": null,
      "outputs": [
        {
          "output_type": "execute_result",
          "data": {
            "text/html": [
              "<div>\n",
              "<style scoped>\n",
              "    .dataframe tbody tr th:only-of-type {\n",
              "        vertical-align: middle;\n",
              "    }\n",
              "\n",
              "    .dataframe tbody tr th {\n",
              "        vertical-align: top;\n",
              "    }\n",
              "\n",
              "    .dataframe thead th {\n",
              "        text-align: right;\n",
              "    }\n",
              "</style>\n",
              "<table border=\"1\" class=\"dataframe\">\n",
              "  <thead>\n",
              "    <tr style=\"text-align: right;\">\n",
              "      <th></th>\n",
              "      <th>Year</th>\n",
              "      <th>Yearly_income</th>\n",
              "      <th>Yearly_Expenses</th>\n",
              "      <th>Yearly_Investments</th>\n",
              "      <th>Annual_Returns</th>\n",
              "    </tr>\n",
              "  </thead>\n",
              "  <tbody>\n",
              "    <tr>\n",
              "      <th>0</th>\n",
              "      <td>2021</td>\n",
              "      <td>35000</td>\n",
              "      <td>17500.0</td>\n",
              "      <td>17500.0000</td>\n",
              "      <td>1400.000000</td>\n",
              "    </tr>\n",
              "    <tr>\n",
              "      <th>1</th>\n",
              "      <td>2022</td>\n",
              "      <td>35000</td>\n",
              "      <td>17500.0</td>\n",
              "      <td>36400.0000</td>\n",
              "      <td>2912.000000</td>\n",
              "    </tr>\n",
              "    <tr>\n",
              "      <th>2</th>\n",
              "      <td>2023</td>\n",
              "      <td>35000</td>\n",
              "      <td>17500.0</td>\n",
              "      <td>56812.0000</td>\n",
              "      <td>4544.960000</td>\n",
              "    </tr>\n",
              "    <tr>\n",
              "      <th>3</th>\n",
              "      <td>2024</td>\n",
              "      <td>35000</td>\n",
              "      <td>17500.0</td>\n",
              "      <td>78856.9600</td>\n",
              "      <td>6308.556800</td>\n",
              "    </tr>\n",
              "    <tr>\n",
              "      <th>4</th>\n",
              "      <td>2025</td>\n",
              "      <td>35000</td>\n",
              "      <td>17500.0</td>\n",
              "      <td>102665.5168</td>\n",
              "      <td>8213.241344</td>\n",
              "    </tr>\n",
              "  </tbody>\n",
              "</table>\n",
              "</div>"
            ],
            "text/plain": [
              "   Year  Yearly_income  Yearly_Expenses  Yearly_Investments  Annual_Returns\n",
              "0  2021          35000          17500.0          17500.0000     1400.000000\n",
              "1  2022          35000          17500.0          36400.0000     2912.000000\n",
              "2  2023          35000          17500.0          56812.0000     4544.960000\n",
              "3  2024          35000          17500.0          78856.9600     6308.556800\n",
              "4  2025          35000          17500.0         102665.5168     8213.241344"
            ]
          },
          "metadata": {},
          "execution_count": 7
        }
      ]
    },
    {
      "cell_type": "code",
      "metadata": {
        "colab": {
          "base_uri": "https://localhost:8080/",
          "height": 338
        },
        "id": "MK9okLP3ET12",
        "outputId": "48d6fd26-ac86-4313-cdaa-6d3951c64abb"
      },
      "source": [
        "#Visually show the data\n",
        "plt.figure(figsize=(12.2, 4.5))\n",
        "plt.plot(df['Year'], df['Yearly_Expenses'], label='Yearly_Expenses')\n",
        "plt.plot(df['Year'], df['Annual_Returns'], label='Annual_Returns')\n",
        "plt.xticks(rotation = 45)\n",
        "plt.title('Retire in 10 years')\n",
        "plt.xlabel('Years')\n",
        "plt.ylabel('$')\n",
        "plt.xticks(df['Year'])\n",
        "plt.legend()\n",
        "plt.show()"
      ],
      "execution_count": null,
      "outputs": [
        {
          "output_type": "display_data",
          "data": {
            "image/png": "[encoded data removed]",
            "text/plain": [
              "<Figure size 878.4x324 with 1 Axes>"
            ]
          },
          "metadata": {
            "needs_background": "light"
          }
        }
      ]
    },
    {
      "cell_type": "code",
      "metadata": {
        "colab": {
          "base_uri": "https://localhost:8080/",
          "height": 80
        },
        "id": "Iii96GGKMlVl",
        "outputId": "09d18a13-d23d-4de5-947b-4377b18c69d5"
      },
      "source": [
        "#Show the year/row where you can live off of returns\n",
        "df[df.Yearly_Expenses <= df.Annual_Returns].head(1)"
      ],
      "execution_count": null,
      "outputs": [
        {
          "output_type": "execute_result",
          "data": {
            "text/html": [
              "<div>\n",
              "<style scoped>\n",
              "    .dataframe tbody tr th:only-of-type {\n",
              "        vertical-align: middle;\n",
              "    }\n",
              "\n",
              "    .dataframe tbody tr th {\n",
              "        vertical-align: top;\n",
              "    }\n",
              "\n",
              "    .dataframe thead th {\n",
              "        text-align: right;\n",
              "    }\n",
              "</style>\n",
              "<table border=\"1\" class=\"dataframe\">\n",
              "  <thead>\n",
              "    <tr style=\"text-align: right;\">\n",
              "      <th></th>\n",
              "      <th>Year</th>\n",
              "      <th>Yearly_income</th>\n",
              "      <th>Yearly_Expenses</th>\n",
              "      <th>Yearly_Investments</th>\n",
              "      <th>Annual_Returns</th>\n",
              "    </tr>\n",
              "  </thead>\n",
              "  <tbody>\n",
              "    <tr>\n",
              "      <th>9</th>\n",
              "      <td>2030</td>\n",
              "      <td>35000</td>\n",
              "      <td>17500.0</td>\n",
              "      <td>253514.843153</td>\n",
              "      <td>20281.187452</td>\n",
              "    </tr>\n",
              "  </tbody>\n",
              "</table>\n",
              "</div>"
            ],
            "text/plain": [
              "   Year  Yearly_income  Yearly_Expenses  Yearly_Investments  Annual_Returns\n",
              "9  2030          35000          17500.0       253514.843153    20281.187452"
            ]
          },
          "metadata": {},
          "execution_count": 20
        }
      ]
    }
  ]
}