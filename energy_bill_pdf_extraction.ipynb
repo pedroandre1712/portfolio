{
  "nbformat": 4,
  "nbformat_minor": 0,
  "metadata": {
    "colab": {
      "name": "pdf.ipynb",
      "provenance": [],
      "collapsed_sections": [
        "-M0cu7NDYZUK",
        "56pY26-mbjCS",
        "ORJHWjE3bs0P",
        "uyLDvNC_bxtS",
        "rrVZPo83WHLa",
        "e_tDHGW1WQUW",
        "0eHDOmioWOF9",
        "0Hrey4jmVvYn",
        "iFuNC0JYWL8u"
      ],
      "include_colab_link": true
    },
    "kernelspec": {
      "name": "python3",
      "display_name": "Python 3"
    },
    "language_info": {
      "name": "python"
    }
  },
  "cells": [
    {
      "cell_type": "markdown",
      "metadata": {
        "id": "view-in-github",
        "colab_type": "text"
      },
      "source": [
        "<a href=\"https://colab.research.google.com/github/pedroandre1712/portfolio/blob/main/energy_bill_pdf_extraction.ipynb\" target=\"_parent\"><img src=\"https://colab.research.google.com/assets/colab-badge.svg\" alt=\"Open In Colab\"/></a>"
      ]
    },
    {
      "cell_type": "markdown",
      "metadata": {
        "id": "8G9mhWyVXAwg"
      },
      "source": [
        "# Esse código foi um projeto para a ONG Revolusolar.\n",
        "O objetivo desse código é coletar algumas informações de forma automatizada das contas de luz dos cooperados e criar um arquivo excel contendo todas esses dados.\n",
        "\n",
        "As informações que serão coletadas são\n",
        "\n",
        "▶ *kWh consumidos*\n",
        "\n",
        "▶ *preco unitario da energia eletrica*\n",
        "\n",
        "▶ *saldo total de credito*\n",
        "\n",
        "▶ *energia injetada*\n",
        "\n",
        "▶ *energia injetada no ciclo*\n",
        "\n",
        "▶ *subtotal outros*\n",
        "\n",
        "▶ *total a pagar*\n",
        "\n",
        "▶ *leitura estimada* \n"
      ]
    },
    {
      "cell_type": "markdown",
      "metadata": {
        "id": "5G_yZ9zhVzlQ"
      },
      "source": [
        "# Algoritmo para realizar a coleta de dados"
      ]
    },
    {
      "cell_type": "markdown",
      "metadata": {
        "id": "8jLLhwA2GPf2"
      },
      "source": [
        "## Conectando com Google Drive"
      ]
    },
    {
      "cell_type": "code",
      "metadata": {
        "colab": {
          "base_uri": "https://localhost:8080/"
        },
        "id": "8TR270xHGIBs",
        "outputId": "64ccb50f-8602-4939-fd9a-5c33c5d0a53f"
      },
      "source": [
        "from google.colab import drive\n",
        "drive.mount('/content/drive')"
      ],
      "execution_count": null,
      "outputs": [
        {
          "output_type": "stream",
          "name": "stdout",
          "text": [
            "Drive already mounted at /content/drive; to attempt to forcibly remount, call drive.mount(\"/content/drive\", force_remount=True).\n"
          ]
        }
      ]
    },
    {
      "cell_type": "markdown",
      "metadata": {
        "id": "-M0cu7NDYZUK"
      },
      "source": [
        "## Instalando bibliotecas ✅"
      ]
    },
    {
      "cell_type": "code",
      "metadata": {
        "colab": {
          "base_uri": "https://localhost:8080/"
        },
        "id": "fJTawy0NWpmJ",
        "outputId": "32f22859-dad5-4d9a-c56c-4e00d9919e27"
      },
      "source": [
        "pip install PyPDF2"
      ],
      "execution_count": null,
      "outputs": [
        {
          "output_type": "stream",
          "name": "stdout",
          "text": [
            "Collecting PyPDF2\n",
            "  Downloading PyPDF2-1.26.0.tar.gz (77 kB)\n",
            "\u001b[?25l\r\u001b[K     |████▎                           | 10 kB 18.9 MB/s eta 0:00:01\r\u001b[K     |████████▌                       | 20 kB 23.4 MB/s eta 0:00:01\r\u001b[K     |████████████▊                   | 30 kB 22.2 MB/s eta 0:00:01\r\u001b[K     |█████████████████               | 40 kB 13.5 MB/s eta 0:00:01\r\u001b[K     |█████████████████████▏          | 51 kB 5.8 MB/s eta 0:00:01\r\u001b[K     |█████████████████████████▍      | 61 kB 5.6 MB/s eta 0:00:01\r\u001b[K     |█████████████████████████████▋  | 71 kB 5.8 MB/s eta 0:00:01\r\u001b[K     |████████████████████████████████| 77 kB 2.6 MB/s \n",
            "\u001b[?25hBuilding wheels for collected packages: PyPDF2\n",
            "  Building wheel for PyPDF2 (setup.py) ... \u001b[?25l\u001b[?25hdone\n",
            "  Created wheel for PyPDF2: filename=PyPDF2-1.26.0-py3-none-any.whl size=61101 sha256=b48e53f01b449f90a01776677ee179d501f5d982904aeb2b906d1921e60ea73e\n",
            "  Stored in directory: /root/.cache/pip/wheels/80/1a/24/648467ade3a77ed20f35cfd2badd32134e96dd25ca811e64b3\n",
            "Successfully built PyPDF2\n",
            "Installing collected packages: PyPDF2\n",
            "Successfully installed PyPDF2-1.26.0\n"
          ]
        }
      ]
    },
    {
      "cell_type": "markdown",
      "metadata": {
        "id": "mGHYXBTZYVOT"
      },
      "source": [
        "## Importando bibliotecas ✅"
      ]
    },
    {
      "cell_type": "code",
      "metadata": {
        "id": "2egvR27BzWO0"
      },
      "source": [
        "from PyPDF2 import PdfFileReader\n",
        "import pandas as pd\n",
        "from os import listdir\n",
        "from os.path import isfile, join"
      ],
      "execution_count": null,
      "outputs": []
    },
    {
      "cell_type": "markdown",
      "metadata": {
        "id": "dlO8jnJUfNQa"
      },
      "source": [
        "## Criacao das funcoes para realizar a coleta"
      ]
    },
    {
      "cell_type": "markdown",
      "metadata": {
        "id": "56pY26-mbjCS"
      },
      "source": [
        "### kWh consumidos ✅"
      ]
    },
    {
      "cell_type": "code",
      "metadata": {
        "id": "l8-HJp7kbpb_"
      },
      "source": [
        "def coleta_kwhconsumidos(texto):\n",
        "  read = texto.find('kWh', 24)\n",
        "  consumo = texto[read+3:texto.find(',')-1]\n",
        "  return consumo"
      ],
      "execution_count": null,
      "outputs": []
    },
    {
      "cell_type": "markdown",
      "metadata": {
        "id": "ORJHWjE3bs0P"
      },
      "source": [
        "### Preco unitario da energia eletrica ✅"
      ]
    },
    {
      "cell_type": "code",
      "metadata": {
        "id": "93f4OtdfbvbZ"
      },
      "source": [
        "def coleta_unitario(texto):\n",
        "  virgula = texto.find(',')\n",
        "  tarifa = texto[virgula-1:virgula+6]\n",
        "  return tarifa"
      ],
      "execution_count": null,
      "outputs": []
    },
    {
      "cell_type": "markdown",
      "metadata": {
        "id": "uyLDvNC_bxtS"
      },
      "source": [
        "### Saldo total de credito ✅\n"
      ]
    },
    {
      "cell_type": "code",
      "metadata": {
        "id": "PcsUTaGQbzs6"
      },
      "source": [
        "def coleta_saldocredito(texto):\n",
        "  read = texto[texto.find('Micro'):texto.find('Micro')+90]\n",
        "  readtres = read.find('crédito')\n",
        "  readquatro = read.find('Conven')\n",
        "  saldo = read[readtres+len('crédito'):readquatro]\n",
        "  if '.' in saldo:\n",
        "    saldo.replace('.','')\n",
        "  saldo = int(saldo)\n",
        "  return saldo"
      ],
      "execution_count": null,
      "outputs": []
    },
    {
      "cell_type": "markdown",
      "metadata": {
        "id": "rrVZPo83WHLa"
      },
      "source": [
        "### Energia injetada ✅"
      ]
    },
    {
      "cell_type": "code",
      "metadata": {
        "id": "zkKReSd7WLZu"
      },
      "source": [
        "def coleta_energiainjetada(texto):\n",
        "  ancora = 'Energia Injetada kWh - TUSD'\n",
        "  read = texto[texto.find(ancora):texto.find(ancora)+40]\n",
        "  energia_inj = read[read.find('TUSD')+12:read.find(',')-1]\n",
        "  return energia_inj"
      ],
      "execution_count": null,
      "outputs": []
    },
    {
      "cell_type": "markdown",
      "metadata": {
        "id": "e_tDHGW1WQUW"
      },
      "source": [
        "### Energia injetada no ciclo ✅"
      ]
    },
    {
      "cell_type": "code",
      "metadata": {
        "id": "xNkqfts4WT8k"
      },
      "source": [
        "def coleta_energiainjetadanociclo(texto): \n",
        "  read = texto[texto.find('Micro'):texto.find('Micro')+90]\n",
        "  readum = read.find('ciclo')\n",
        "  readdois = read.find('Saldo')\n",
        "  readtres = read.find('crédito')\n",
        "  readquatro = read.find('Conven')\n",
        "  energia_injetada = read[readum+len('ciclo'):readdois]\n",
        "  energia_injetada = int(energia_injetada)\n",
        "  return energia_injetada"
      ],
      "execution_count": null,
      "outputs": []
    },
    {
      "cell_type": "markdown",
      "metadata": {
        "id": "0eHDOmioWOF9"
      },
      "source": [
        "### Subtotal outros ✅"
      ]
    },
    {
      "cell_type": "code",
      "metadata": {
        "id": "R9vVfYlgWP7t"
      },
      "source": [
        "def coleta_subtotaloutros(texto):\n",
        "  fragmento = texto[texto.find('Outros')+len('Outros'):texto.find('ICMS')]\n",
        "  indice = fragmento.find(',')\n",
        "  subtotal_outros = fragmento[indice+3:fragmento.find(',',indice+1)+3]\n",
        "  return subtotal_outros"
      ],
      "execution_count": null,
      "outputs": []
    },
    {
      "cell_type": "markdown",
      "metadata": {
        "id": "0Hrey4jmVvYn"
      },
      "source": [
        "### Total a pagar ✅"
      ]
    },
    {
      "cell_type": "code",
      "metadata": {
        "id": "O53VONGrSom_"
      },
      "source": [
        "def coleta_totalapagar(texto, year, month):\n",
        "  ancora = month+'/'+year\n",
        "  i_ancora = texto.find(ancora)\n",
        "  i_total_a_pagar = texto[i_ancora:].find('$')+i_ancora\n",
        "  i_virgula = texto[i_total_a_pagar:].find(',')+i_total_a_pagar\n",
        "  total_a_pagar = texto[i_total_a_pagar+2:i_virgula+3]\n",
        "  return total_a_pagar"
      ],
      "execution_count": null,
      "outputs": []
    },
    {
      "cell_type": "markdown",
      "metadata": {
        "id": "iFuNC0JYWL8u"
      },
      "source": [
        "### Leitura Estimada ✅"
      ]
    },
    {
      "cell_type": "code",
      "metadata": {
        "id": "HPlCCOGsWNq1"
      },
      "source": [
        "def coleta_leituraestimada(texto):\n",
        "  if 'LEITURA ESTIMADA' in texto:\n",
        "    return 1\n",
        "  else:\n",
        "    return 0"
      ],
      "execution_count": null,
      "outputs": []
    },
    {
      "cell_type": "markdown",
      "metadata": {
        "id": "azxRkgCHfE_Z"
      },
      "source": [
        "## Coleta"
      ]
    },
    {
      "cell_type": "code",
      "metadata": {
        "id": "XCmvt8eXfHbD",
        "colab": {
          "base_uri": "https://localhost:8080/",
          "height": 244
        },
        "outputId": "189a4193-e5b9-4446-ca62-0e35fb15b762"
      },
      "source": [
        "df = pd.DataFrame({'codigo':[],\n",
        "                   'energia_injetada_no_ciclo':[],\n",
        "                    'energia_injetada':[],\n",
        "                    'saldo_credito':[],\n",
        "                    'leitura_estimada':[],\n",
        "                    'kWh_consumidos':[],\n",
        "                    'tarifa':[],\n",
        "                    'subtotal':[],\n",
        "                    'total_a_pagar':[]\n",
        "                     })\n",
        "\n",
        "\n",
        "mes = ['JAN', 'FEV', 'MAR', 'ABR','MAI', 'JUN', \n",
        "       'JUL', 'AGO', 'SET', 'OUT', 'NOV', 'DEZ']\n",
        "\n",
        "dicionario = {}\n",
        "\n",
        "for i, mes in enumerate(mes):\n",
        "  dicionario[mes] = i+1\n",
        "\n",
        "ano = input('Digite o ano que deseja consultar: ')\n",
        "mes = input('Digite o mes que deseja consultar: ').upper()\n",
        "pasta_ano_mes = ano+'.'+str(dicionario[mes])\n",
        "path = '/content/drive/MyDrive/Contas Light cada cooperado/'+pasta_ano_mes+'/'\n",
        "print(path)\n",
        "files = [f for f in listdir(path) if isfile(join(path, f))]\n",
        "\n",
        "for file in files:\n",
        "    with open(path+file,'rb') as caminho:\n",
        "\n",
        "      \n",
        "\n",
        "      pdf = PdfFileReader(caminho)\n",
        "      page = pdf.getPage(0)\n",
        "      text = page.extractText()\n",
        "\n",
        "      codigo = file[:7]\n",
        "      kwh_consumidos = coleta_kwhconsumidos(text)\n",
        "      unitario = coleta_unitario(text)\n",
        "      saldo_credito = coleta_saldocredito(text)\n",
        "      energia_injetada = coleta_energiainjetada(text)\n",
        "      energia_injetada_no_ciclo = coleta_energiainjetadanociclo(text)\n",
        "      subtotal_outros = coleta_subtotaloutros(text)\n",
        "      total_a_pagar = coleta_totalapagar(text, ano, mes)\n",
        "      leitura_estimada = coleta_leituraestimada(text)\n",
        "\n",
        "      dicionario = {'codigo':codigo,\n",
        "                    'energia_injetada_no_ciclo':energia_injetada_no_ciclo,\n",
        "                        'energia_injetada':energia_injetada,\n",
        "                        'saldo_credito':saldo_credito,\n",
        "                        'leitura_estimada':leitura_estimada,\n",
        "                        'kWh_consumidos': kwh_consumidos,\n",
        "                        'tarifa':unitario,\n",
        "                        'subtotal':subtotal_outros,\n",
        "                        'total_a_pagar':total_a_pagar\n",
        "                        }\n",
        "      df = df.append(dicionario, ignore_index = True)\n",
        "df.to_excel(path+'output_teste.xlsx')"
      ],
      "execution_count": null,
      "outputs": [
        {
          "output_type": "error",
          "ename": "NameError",
          "evalue": "ignored",
          "traceback": [
            "\u001b[0;31m---------------------------------------------------------------------------\u001b[0m",
            "\u001b[0;31mNameError\u001b[0m                                 Traceback (most recent call last)",
            "\u001b[0;32m<ipython-input-14-b25ac89248b0>\u001b[0m in \u001b[0;36m<module>\u001b[0;34m()\u001b[0m\n\u001b[1;32m     23\u001b[0m \u001b[0;31m#pasta_ano_mes = ano+'.'+str(dicionario[mes])\u001b[0m\u001b[0;34m\u001b[0m\u001b[0;34m\u001b[0m\u001b[0;34m\u001b[0m\u001b[0m\n\u001b[1;32m     24\u001b[0m \u001b[0;31m# path = '/content/drive/MyDrive/Contas Light cada cooperado/'+pasta_ano_mes+'/'\u001b[0m\u001b[0;34m\u001b[0m\u001b[0;34m\u001b[0m\u001b[0;34m\u001b[0m\u001b[0m\n\u001b[0;32m---> 25\u001b[0;31m \u001b[0mpath\u001b[0m \u001b[0;34m=\u001b[0m \u001b[0;34m'/content/drive/MyDrive/Revolusolar/contas'\u001b[0m\u001b[0;34m+\u001b[0m\u001b[0mpasta_ano_mes\u001b[0m\u001b[0;34m+\u001b[0m\u001b[0;34m'/'\u001b[0m\u001b[0;34m\u001b[0m\u001b[0;34m\u001b[0m\u001b[0m\n\u001b[0m\u001b[1;32m     26\u001b[0m \u001b[0mprint\u001b[0m\u001b[0;34m(\u001b[0m\u001b[0mpath\u001b[0m\u001b[0;34m)\u001b[0m\u001b[0;34m\u001b[0m\u001b[0;34m\u001b[0m\u001b[0m\n\u001b[1;32m     27\u001b[0m \u001b[0mfiles\u001b[0m \u001b[0;34m=\u001b[0m \u001b[0;34m[\u001b[0m\u001b[0mf\u001b[0m \u001b[0;32mfor\u001b[0m \u001b[0mf\u001b[0m \u001b[0;32min\u001b[0m \u001b[0mlistdir\u001b[0m\u001b[0;34m(\u001b[0m\u001b[0mpath\u001b[0m\u001b[0;34m)\u001b[0m \u001b[0;32mif\u001b[0m \u001b[0misfile\u001b[0m\u001b[0;34m(\u001b[0m\u001b[0mjoin\u001b[0m\u001b[0;34m(\u001b[0m\u001b[0mpath\u001b[0m\u001b[0;34m,\u001b[0m \u001b[0mf\u001b[0m\u001b[0;34m)\u001b[0m\u001b[0;34m)\u001b[0m\u001b[0;34m]\u001b[0m\u001b[0;34m\u001b[0m\u001b[0;34m\u001b[0m\u001b[0m\n",
            "\u001b[0;31mNameError\u001b[0m: name 'pasta_ano_mes' is not defined"
          ]
        }
      ]
    },
    {
      "cell_type": "code",
      "metadata": {
        "id": "e1-kPOHAgeFh"
      },
      "source": [
        "b = pd.read_excel(path + 'output_teste.xlsx')\n",
        "b[['codigo', 'subtotal']]"
      ],
      "execution_count": null,
      "outputs": []
    },
    {
      "cell_type": "markdown",
      "metadata": {
        "id": "IWf8JB8kLZw6"
      },
      "source": [
        "To Do\n",
        "\n",
        "Colocar o path da revolusolar ✅\n",
        "\n",
        "Automatizar com o ano e a data ✅\n",
        "\n",
        "mor_012\n",
        "\n"
      ]
    },
    {
      "cell_type": "code",
      "metadata": {
        "id": "v7g2bKJPR3Gt"
      },
      "source": [
        ""
      ],
      "execution_count": null,
      "outputs": []
    }
  ]
}